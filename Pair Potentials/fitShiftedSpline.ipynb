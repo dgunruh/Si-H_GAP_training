{
 "cells": [
  {
   "cell_type": "code",
   "execution_count": 1,
   "metadata": {},
   "outputs": [],
   "source": [
    "#Import numerical modules\n",
    "import numpy as np\n",
    "import numpy.linalg as LA\n",
    "import math\n",
    "import sys\n",
    "import os\n",
    "\n",
    "#Import plotting\n",
    "import matplotlib.pyplot as plt\n",
    "\n",
    "#Scipy optimization imports\n",
    "from scipy.interpolate import CubicSpline\n",
    "\n",
    "#File dialog imports\n",
    "from tkinter import Tk\n",
    "from tkinter import filedialog as fd"
   ]
  },
  {
   "cell_type": "markdown",
   "metadata": {},
   "source": [
    "### Read in the necessary parameters from the command line"
   ]
  },
  {
   "cell_type": "code",
   "execution_count": 32,
   "metadata": {},
   "outputs": [],
   "source": [
    "#Define the two atoms\n",
    "#atom1 = sys.argv[1]\n",
    "#atom2 = sys.argv[2]\n",
    "atom1 = \"Si\"\n",
    "atom2 = \"Si\""
   ]
  },
  {
   "cell_type": "code",
   "execution_count": 33,
   "metadata": {},
   "outputs": [],
   "source": [
    "#Define the single-atom energies\n",
    "Si_energy_ry = -7.52791749\n",
    "H_energy_ry = -0.92741691\n",
    "\n",
    "ry_to_ev = 13.605698\n",
    "Si_energy_ev = Si_energy_ry*ry_to_ev\n",
    "H_energy_ev = H_energy_ry*ry_to_ev"
   ]
  },
  {
   "cell_type": "code",
   "execution_count": 34,
   "metadata": {},
   "outputs": [],
   "source": [
    "#read in the electric potentials associated with each atomic distance\n",
    "cwd = os.getcwd()\n",
    "foldername = \"/\" + atom1 + \"-\" + atom2 + \" DFT outputs/\"\n",
    "folder = cwd + foldername\n",
    "\n",
    "bohr_to_angstrom = 0.529177\n",
    "d = []\n",
    "v = []\n",
    "for file in os.listdir(folder):\n",
    "\n",
    "    getEnergy=False\n",
    "    coordsStart = 0\n",
    "    getCoords = False\n",
    "    lines = open(folder + \"/\" + file,\"r\").read().splitlines()\n",
    "    for n, line in enumerate(lines):\n",
    "        newline = line.split()\n",
    "        if len(newline)>2:\n",
    "            if newline[2] == \"(alat)\":\n",
    "                alat = float(newline[4])*bohr_to_angstrom\n",
    "                \n",
    "            if newline[1] == \"Fermi\":\n",
    "                getEnergy = True\n",
    "        \n",
    "            if getEnergy and newline[0] == \"!\" and newline[1] == \"total\" and newline[2] == \"energy\":\n",
    "                energy = float(newline[4])*ry_to_ev\n",
    "                if atom1 == \"Si\":\n",
    "                    energy -= Si_energy_ev\n",
    "                else:\n",
    "                    energy -= H_energy_ev\n",
    "                \n",
    "                if atom2 == \"Si\":\n",
    "                    energy -= Si_energy_ev\n",
    "                else:\n",
    "                    energy -= H_energy_ev\n",
    "                v.append(energy)\n",
    "            \n",
    "        if line == \"   Cartesian axes\":\n",
    "            coordsStart = n + 3\n",
    "            getCoords = True\n",
    "        if n==(coordsStart + 1) and getCoords:\n",
    "            d.append(float(newline[6])*alat)"
   ]
  },
  {
   "cell_type": "markdown",
   "metadata": {},
   "source": [
    "### Fit a cubic spline to our data"
   ]
  },
  {
   "cell_type": "code",
   "execution_count": 35,
   "metadata": {},
   "outputs": [
    {
     "name": "stdout",
     "output_type": "stream",
     "text": [
      "[65.38382884 53.56692257 42.15009403 34.06544909 27.19045248 21.32527907\n",
      " 15.5861951  11.54053808  8.23743665  5.55641713  3.39865302  1.67152626\n",
      "  0.50297776]\n",
      "[65.38382884 53.56692257 42.15009403 34.06544909 27.19045248 21.32527907\n",
      " 15.5861951  11.54053808  8.23743665  5.55641713  3.39865302  1.67152626\n",
      "  0.50297776 -0.45947776 -1.38537598 -1.99629019 -2.48457542 -2.93492022\n",
      " -3.21592469 -3.34955618 -3.57571716 -3.70371508 -3.75270607 -3.6376552\n",
      " -3.44213629]\n",
      "[2.21469562 2.99468205]\n"
     ]
    }
   ],
   "source": [
    "dArray = np.asarray(d)\n",
    "vArray = np.asarray(v)\n",
    "\n",
    "ind = np.argsort(dArray,axis=0)\n",
    "dArray_sorted = np.take_along_axis(dArray, ind,axis=0)\n",
    "vArray_sorted = np.take_along_axis(vArray, ind,axis=0)\n",
    "\n",
    "cs = CubicSpline(dArray_sorted, vArray_sorted)\n",
    "csder = cs.derivative()\n",
    "\n",
    "\n",
    "greater_than = vArray_sorted>0\n",
    "print(vArray_sorted[greater_than])\n",
    "#print(dArray_sorted[greater_than])\n",
    "#print(vArray_sorted[greater_than])\n",
    "print(vArray_sorted)\n",
    "print(csder.roots())"
   ]
  },
  {
   "cell_type": "markdown",
   "metadata": {},
   "source": [
    "### Plot the data and the spline fit"
   ]
  },
  {
   "cell_type": "code",
   "execution_count": 39,
   "metadata": {
    "scrolled": true
   },
   "outputs": [
    {
     "data": {
      "image/png": "[encoded data removed]",
      "text/plain": [
       "<Figure size 468x288 with 1 Axes>"
      ]
     },
     "metadata": {
      "needs_background": "light"
     },
     "output_type": "display_data"
    },
    {
     "name": "stdout",
     "output_type": "stream",
     "text": [
      "Number of points in the spline:  23\n"
     ]
    }
   ],
   "source": [
    "\n",
    "#Get the spline which extends from the largest positive V data point we have to \n",
    "#the zero point of the fitted spline\n",
    "minPoint = csder.roots()[0]\n",
    "dArray_lessthan = dArray_sorted[dArray_sorted <= minPoint]\n",
    "dPoints_to_add = []\n",
    "for n, i in enumerate(dArray_lessthan[:-1]):\n",
    "    distance = dArray_lessthan[n+1] - i\n",
    "    spacing = distance/2\n",
    "    dPoints_to_add.append(i + spacing)\n",
    "    #dPoints_to_add.append(i+2*spacing)\n",
    "    \n",
    "dPoints_to_add.append(minPoint)\n",
    "dPoints_to_add.append(dArray_lessthan[0])\n",
    "splineD_unsorted = np.array(dPoints_to_add)\n",
    "#splineD_unsorted = np.append(splineD_unsorted, dPoints_to_add)\n",
    "splineD = np.sort(splineD_unsorted)\n",
    "splineV = cs(splineD)\n",
    "\n",
    "offset = cs(minPoint)\n",
    "splineV -= offset\n",
    "\n",
    "\n",
    "#NOW PLOT EVERYTHING TO MAKE SURE IT LOOKS GOOD\n",
    "#Si-Si mesh points: 0.8and 2.6\n",
    "#Si-H mesh points: 0.6 and 1.6\n",
    "#H-H mesh points: 0.25 and 0.8\n",
    "finemesh = np.arange(2.0, 2.3, .001)\n",
    "\n",
    "plt.figure(figsize=(6.5,4))\n",
    "plt.plot(splineD, splineV ,'o',label='Spline fitted data')\n",
    "plt.plot(dArray_sorted, vArray_sorted,'o',label='DFT Data')\n",
    "plt.plot(finemesh, cs(finemesh),label='Spline')\n",
    "plt.xlabel(r\"Atomic Separation [${\\AA}$]\")\n",
    "plt.ylabel(\"Electric Potential Energy [eV]\")\n",
    "plt.legend(loc='upper right',ncol=2)\n",
    "plt.ylim(-10,10)\n",
    "plt.show()\n",
    "\n",
    "#zeroSlopePoint = cs.derivative().roots()[1]\n",
    "#print(\"Bonding point at: \",zeroSlopePoint)\n",
    "\n",
    "print(\"Number of points in the spline: \", len(splineD))"
   ]
  },
  {
   "cell_type": "code",
   "execution_count": 30,
   "metadata": {},
   "outputs": [
    {
     "data": {
      "image/png": "[encoded data removed]",
      "text/plain": [
       "<Figure size 468x288 with 1 Axes>"
      ]
     },
     "metadata": {
      "needs_background": "light"
     },
     "output_type": "display_data"
    },
    {
     "name": "stdout",
     "output_type": "stream",
     "text": [
      "Bonding point of old spline at:  [0.96935278 0.76491908]\n",
      "Bonding point of new spline at:  [0.97542255 0.76480435]\n",
      "[0.22199978 0.23299977 0.25499975 0.27749972 0.2999997  0.32199968\n",
      " 0.34399966 0.36599964 0.38849961 0.41099959 0.43299957 0.44749956\n",
      " 0.45499955 0.46249954 0.46999953 0.47749953 0.48449952 0.49199951\n",
      " 0.4994995  0.5069995  0.51449949 0.52149948 0.52899947 0.53649947\n",
      " 0.54399946 0.55149945 0.55849945 0.56599944 0.57349943 0.58099942\n",
      " 0.59599941 0.61799939 0.64749936 0.68449932 0.72149928 0.76491908]\n",
      "[26.85661274 24.2543146  19.85259308 16.24588328 13.33140227 11.00589379\n",
      "  9.09114339  7.5062094   6.16113216  5.04321963  4.13026095  3.61075034\n",
      "  3.36467147  3.13284162  2.91442472  2.7086481   2.52735811  2.34402237\n",
      "  2.17135347  2.00876704  1.85571819  1.72102799  1.5850065   1.4571241\n",
      "  1.33696295  1.22413407  1.12511924  1.02544914  0.93210101  0.84477248\n",
      "  0.68704721  0.49294965  0.29334539  0.12554898  0.03310005  0.        ]\n"
     ]
    }
   ],
   "source": [
    "#Now as a check, make a spline from the new data, and make sure it aligns\n",
    "cs_new = CubicSpline(splineD, splineV)\n",
    "finemesh = np.arange(0.25,0.8,.001)\n",
    "plt.figure(figsize=(6.5,4))\n",
    "plt.plot(splineD, splineV ,'o',label='Spline fitted data')\n",
    "plt.plot(finemesh, cs_new(finemesh),label='New Spline')\n",
    "plt.plot(finemesh, cs(finemesh), label='Old Spline')\n",
    "plt.xlabel(r\"Atomic Separation [${\\AA}$]\")\n",
    "plt.ylabel(\"Electric Potential Energy [eV]\")\n",
    "plt.legend(loc='upper right',ncol=2)\n",
    "plt.show()\n",
    "\n",
    "zeroSlopePoint_old = cs.derivative().roots()\n",
    "print(\"Bonding point of old spline at: \",zeroSlopePoint_old)\n",
    "\n",
    "zeroSlopePoint_new = cs_new.derivative().roots()\n",
    "print(\"Bonding point of new spline at: \",zeroSlopePoint_new)\n",
    "\n",
    "print(splineD)\n",
    "print(splineV)"
   ]
  },
  {
   "cell_type": "markdown",
   "metadata": {},
   "source": [
    "### Export the spline in a way that it can be plugged straight into the GLUE model"
   ]
  },
  {
   "cell_type": "code",
   "execution_count": 31,
   "metadata": {},
   "outputs": [],
   "source": [
    "outputFilename = \"/\" + atom1 + \"-\" + atom2 + \"_newspline.txt\"\n",
    "outputFile = cwd + outputFilename\n",
    "g = open(outputFile,'w+')\n",
    "for n, item in enumerate(splineD):\n",
    "    locString = \"\\\"\" + str(item).rjust(4) + \"\\\"\"\n",
    "    eString = \"\\\"\" + str(splineV[n]) + \"\\\"\"\n",
    "    g.write(\"<point r=\" + locString + \" E=\" + eString + \"/>\\n\")\n",
    "g.close()"
   ]
  },
  {
   "cell_type": "code",
   "execution_count": null,
   "metadata": {},
   "outputs": [],
   "source": []
  }
 ],
 "metadata": {
  "kernelspec": {
   "display_name": "Python 3",
   "language": "python",
   "name": "python3"
  },
  "language_info": {
   "codemirror_mode": {
    "name": "ipython",
    "version": 3
   },
   "file_extension": ".py",
   "mimetype": "text/x-python",
   "name": "python",
   "nbconvert_exporter": "python",
   "pygments_lexer": "ipython3",
   "version": "3.7.7"
  }
 },
 "nbformat": 4,
 "nbformat_minor": 4
}

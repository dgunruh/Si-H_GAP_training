{
 "cells": [
  {
   "cell_type": "code",
   "execution_count": 1,
   "metadata": {},
   "outputs": [],
   "source": [
    "#Import numerical modules\n",
    "import numpy as np\n",
    "import numpy.linalg as LA\n",
    "import math\n",
    "import sys\n",
    "import os\n",
    "\n",
    "#Import plotting\n",
    "import matplotlib.pyplot as plt\n",
    "\n",
    "#Scipy optimization imports\n",
    "from scipy.interpolate import CubicSpline\n",
    "\n",
    "#File dialog imports\n",
    "from tkinter import Tk\n",
    "from tkinter import filedialog as fd"
   ]
  },
  {
   "cell_type": "markdown",
   "metadata": {},
   "source": [
    "### Read in the necessary parameters from the command line"
   ]
  },
  {
   "cell_type": "code",
   "execution_count": 159,
   "metadata": {},
   "outputs": [],
   "source": [
    "#Define the two atoms\n",
    "#atom1 = sys.argv[1]\n",
    "#atom2 = sys.argv[2]\n",
    "atom1 = \"Si\"\n",
    "atom2 = \"Si\""
   ]
  },
  {
   "cell_type": "code",
   "execution_count": 160,
   "metadata": {},
   "outputs": [],
   "source": [
    "#Define the single-atom energies\n",
    "Si_energy_ry = -7.52791749\n",
    "H_energy_ry = -0.92741691\n",
    "\n",
    "ry_to_ev = 13.605698\n",
    "Si_energy_ev = Si_energy_ry*ry_to_ev\n",
    "H_energy_ev = H_energy_ry*ry_to_ev"
   ]
  },
  {
   "cell_type": "code",
   "execution_count": 161,
   "metadata": {},
   "outputs": [],
   "source": [
    "#read in the electric potentials associated with each atomic distance\n",
    "cwd = os.getcwd()\n",
    "foldername = \"/\" + atom1 + \"-\" + atom2 + \" DFT outputs/\"\n",
    "folder = cwd + foldername\n",
    "\n",
    "bohr_to_angstrom = 0.529177\n",
    "d = []\n",
    "v = []\n",
    "for file in os.listdir(folder):\n",
    "\n",
    "    getEnergy=False\n",
    "    coordsStart = 0\n",
    "    getCoords = False\n",
    "    lines = open(folder + \"/\" + file,\"r\").read().splitlines()\n",
    "    for n, line in enumerate(lines):\n",
    "        newline = line.split()\n",
    "        if len(newline)>2:\n",
    "            if newline[2] == \"(alat)\":\n",
    "                alat = float(newline[4])*bohr_to_angstrom\n",
    "                \n",
    "            if newline[1] == \"Fermi\":\n",
    "                getEnergy = True\n",
    "        \n",
    "            if getEnergy and newline[0] == \"!\" and newline[1] == \"total\" and newline[2] == \"energy\":\n",
    "                energy = float(newline[4])*ry_to_ev\n",
    "                if atom1 == \"Si\":\n",
    "                    energy -= Si_energy_ev\n",
    "                else:\n",
    "                    energy -= H_energy_ev\n",
    "                \n",
    "                if atom2 == \"Si\":\n",
    "                    energy -= Si_energy_ev\n",
    "                else:\n",
    "                    energy -= H_energy_ev\n",
    "                v.append(energy)\n",
    "            \n",
    "        if line == \"   Cartesian axes\":\n",
    "            coordsStart = n + 3\n",
    "            getCoords = True\n",
    "        if n==(coordsStart + 1) and getCoords:\n",
    "            d.append(float(newline[6])*alat)"
   ]
  },
  {
   "cell_type": "markdown",
   "metadata": {},
   "source": [
    "### Fit a cubic spline to our data"
   ]
  },
  {
   "cell_type": "code",
   "execution_count": 162,
   "metadata": {},
   "outputs": [
    {
     "name": "stdout",
     "output_type": "stream",
     "text": [
      "[65.38382884 53.56692257 42.15009403 34.06544909 27.19045248 21.32527907\n",
      " 15.5861951  11.54053808  8.23743665  5.55641713  3.39865302  1.67152626\n",
      "  0.50297776]\n",
      "[65.38382884 53.56692257 42.15009403 34.06544909 27.19045248 21.32527907\n",
      " 15.5861951  11.54053808  8.23743665  5.55641713  3.39865302  1.67152626\n",
      "  0.50297776 -0.45947776 -1.38537598 -1.99629019 -2.48457542 -2.93492022\n",
      " -3.21592469 -3.34955618 -3.57571716 -3.70371508 -3.75270607 -3.6376552\n",
      " -3.44213629]\n"
     ]
    }
   ],
   "source": [
    "dArray = np.asarray(d)\n",
    "vArray = np.asarray(v)\n",
    "\n",
    "ind = np.argsort(dArray,axis=0)\n",
    "dArray_sorted = np.take_along_axis(dArray, ind,axis=0)\n",
    "vArray_sorted = np.take_along_axis(vArray, ind,axis=0)\n",
    "\n",
    "cs = CubicSpline(dArray_sorted, vArray_sorted)\n",
    "\n",
    "\n",
    "greater_than = vArray_sorted>0\n",
    "print(vArray_sorted[greater_than])\n",
    "#print(dArray_sorted[greater_than])\n",
    "#print(vArray_sorted[greater_than])\n",
    "print(vArray_sorted)"
   ]
  },
  {
   "cell_type": "markdown",
   "metadata": {},
   "source": [
    "### Plot the data and the spline fit"
   ]
  },
  {
   "cell_type": "code",
   "execution_count": 163,
   "metadata": {
    "scrolled": true
   },
   "outputs": [
    {
     "data": {
      "image/png": "[encoded data removed]",
      "text/plain": [
       "<Figure size 468x288 with 1 Axes>"
      ]
     },
     "metadata": {
      "needs_background": "light"
     },
     "output_type": "display_data"
    },
    {
     "name": "stdout",
     "output_type": "stream",
     "text": [
      "Number of points in the spline:  26\n"
     ]
    }
   ],
   "source": [
    "\n",
    "#Get the spline which extends from the largest positive V data point we have to \n",
    "#the zero point of the fitted spline\n",
    "greater_than = vArray_sorted>0\n",
    "zeroCrossing = cs.roots()[0]\n",
    "dArray_greaterthan = dArray_sorted[greater_than]\n",
    "dPoints_to_add = []\n",
    "for n, i in enumerate(dArray_greaterthan[:-1]):\n",
    "    distance = dArray_greaterthan[n+1] - i\n",
    "    spacing = distance/2\n",
    "    dPoints_to_add.append(i + spacing)\n",
    "    #dPoints_to_add.append(i+2*spacing)\n",
    "    \n",
    "dPoints_to_add.append(zeroCrossing)\n",
    "splineD_unsorted = np.copy(dArray_sorted[greater_than])\n",
    "splineD_unsorted = np.append(splineD_unsorted, dPoints_to_add)\n",
    "splineD = np.sort(splineD_unsorted)\n",
    "splineV = cs(splineD)\n",
    "\n",
    "\n",
    "#NOW PLOT EVERYTHING TO MAKE SURE IT LOOKS GOOD\n",
    "#Si-Si mesh points: 0.8and 2.6\n",
    "#Si-H mesh points: 0.6 and 1.6\n",
    "#H-H mesh points: 0.25 and 0.8\n",
    "finemesh = np.arange(0.8, 2.6, .001)\n",
    "\n",
    "plt.figure(figsize=(6.5,4))\n",
    "plt.plot(splineD, splineV ,'o',label='Spline fitted data')\n",
    "plt.plot(dArray_sorted, vArray_sorted,'o',label='DFT Data')\n",
    "plt.plot(finemesh, cs(finemesh),label='Spline')\n",
    "plt.xlabel(r\"Atomic Separation [${\\AA}$]\")\n",
    "plt.ylabel(\"Electric Potential Energy [eV]\")\n",
    "plt.legend(loc='upper right',ncol=2)\n",
    "plt.show()\n",
    "\n",
    "#zeroSlopePoint = cs.derivative().roots()[1]\n",
    "#print(\"Bonding point at: \",zeroSlopePoint)\n",
    "\n",
    "print(\"Number of points in the spline: \", len(splineD))"
   ]
  },
  {
   "cell_type": "code",
   "execution_count": 167,
   "metadata": {},
   "outputs": [
    {
     "data": {
      "image/png": "[encoded data removed]",
      "text/plain": [
       "<Figure size 468x288 with 1 Axes>"
      ]
     },
     "metadata": {
      "needs_background": "light"
     },
     "output_type": "display_data"
    },
    {
     "name": "stdout",
     "output_type": "stream",
     "text": [
      "Bonding point of old spline at:  [2.21469562 2.99468205]\n",
      "Bonding point of new spline at:  []\n",
      "[0.89999911 0.92999908 0.95999905 0.99499901 1.02999898 1.05999895\n",
      " 1.08999892 1.11999889 1.14999886 1.17999883 1.2099988  1.24499876\n",
      " 1.27999873 1.3099987  1.33999867 1.36999864 1.39999861 1.42999858\n",
      " 1.45999855 1.48999852 1.51999849 1.54999846 1.57999843 1.60499841\n",
      " 1.62999838 1.65489564]\n",
      "[6.53838288e+01 5.92224179e+01 5.35669226e+01 4.75635867e+01\n",
      " 4.21500940e+01 3.79361782e+01 3.40654491e+01 3.04919716e+01\n",
      " 2.71904525e+01 2.41410741e+01 2.13252791e+01 1.83142209e+01\n",
      " 1.55861951e+01 1.34657094e+01 1.15405381e+01 9.80322917e+00\n",
      " 8.23743665e+00 6.82587783e+00 5.55641713e+00 4.41798802e+00\n",
      " 3.39865302e+00 2.48661712e+00 1.67152626e+00 1.05933488e+00\n",
      " 5.02977757e-01 2.18466738e-16]\n"
     ]
    }
   ],
   "source": [
    "#Now as a check, make a spline from the new data, and make sure it aligns\n",
    "cs_new = CubicSpline(splineD, splineV)\n",
    "finemesh = np.arange(0.8,2.0,.001)\n",
    "plt.figure(figsize=(6.5,4))\n",
    "plt.plot(splineD, splineV ,'o',label='Spline fitted data')\n",
    "plt.plot(finemesh, cs_new(finemesh),label='New Spline')\n",
    "plt.plot(finemesh, cs(finemesh), label='Old Spline')\n",
    "plt.xlabel(r\"Atomic Separation [${\\AA}$]\")\n",
    "plt.ylabel(\"Electric Potential Energy [eV]\")\n",
    "plt.legend(loc='upper right',ncol=2)\n",
    "plt.show()\n",
    "\n",
    "zeroSlopePoint_old = cs.derivative().roots()\n",
    "print(\"Bonding point of old spline at: \",zeroSlopePoint_old)\n",
    "\n",
    "zeroSlopePoint_new = cs_new.derivative().roots()\n",
    "print(\"Bonding point of new spline at: \",zeroSlopePoint_new)\n",
    "\n",
    "print(splineD)\n",
    "print(splineV)"
   ]
  },
  {
   "cell_type": "markdown",
   "metadata": {},
   "source": [
    "### Export the spline in a way that it can be plugged straight into the GLUE model"
   ]
  },
  {
   "cell_type": "code",
   "execution_count": 168,
   "metadata": {},
   "outputs": [],
   "source": [
    "outputFilename = \"/\" + atom1 + \"-\" + atom2 + \"_newspline.txt\"\n",
    "outputFile = cwd + outputFilename\n",
    "g = open(outputFile,'w+')\n",
    "for n, item in enumerate(splineD):\n",
    "    locString = \"\\\"\" + str(item).rjust(4) + \"\\\"\"\n",
    "    eString = \"\\\"\" + str(splineV[n]) + \"\\\"\"\n",
    "    g.write(\"<point r=\" + locString + \" E=\" + eString + \"/>\\n\")\n",
    "g.close()"
   ]
  },
  {
   "cell_type": "code",
   "execution_count": null,
   "metadata": {},
   "outputs": [],
   "source": []
  }
 ],
 "metadata": {
  "kernelspec": {
   "display_name": "Python 3",
   "language": "python",
   "name": "python3"
  },
  "language_info": {
   "codemirror_mode": {
    "name": "ipython",
    "version": 3
   },
   "file_extension": ".py",
   "mimetype": "text/x-python",
   "name": "python",
   "nbconvert_exporter": "python",
   "pygments_lexer": "ipython3",
   "version": "3.7.7"
  }
 },
 "nbformat": 4,
 "nbformat_minor": 4
}

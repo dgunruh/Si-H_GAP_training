{
 "cells": [
  {
   "cell_type": "code",
   "execution_count": 19,
   "metadata": {},
   "outputs": [],
   "source": [
    "from ase import Atoms\n",
    "import os\n",
    "import ase.io.espresso as espresso\n",
    "import ase.io.lammpsrun as lr\n",
    "import ase.io.lammpsdata as ld\n",
    "import ase.io.extxyz as extxyz"
   ]
  },
  {
   "cell_type": "code",
   "execution_count": 39,
   "metadata": {},
   "outputs": [],
   "source": [
    "phaseOffsets = {\"amorph\":1,\"divacancy\":39,\"vacancy\":90,\"interstitial\":60,\"liquid\":123}"
   ]
  },
  {
   "cell_type": "code",
   "execution_count": 41,
   "metadata": {},
   "outputs": [
    {
     "name": "stdout",
     "output_type": "stream",
     "text": [
      "interstitial\n",
      "interstitial\n",
      "interstitial\n",
      "interstitial\n",
      "interstitial\n"
     ]
    }
   ],
   "source": [
    "directory = os.getcwd()\n",
    "data = \"/GAP_fitting/Training_Data/extendedXYZstructures_v4.xyz\"\n",
    "inputFileName = directory + data\n",
    "inputfile = open(inputFileName)\n",
    "\n",
    "phase = \"interstitial\"\n",
    "numberFiles = 5\n",
    "phaseStart = phaseOffsets[phase] + 1\n",
    "phaseEnd = phaseStart + numberFiles\n",
    "\n",
    "for frame in range(phaseStart,phaseEnd):\n",
    "    extxyzFrame = list(extxyz.read_extxyz(inputfile,frame))\n",
    "\n",
    "    phase = extxyzFrame[0].info['config_type']\n",
    "    print(phase)\n",
    "\n",
    "    out = \"/Si:H_LAMMPS_inputs/\" + \"GAP_optimize_\" + phase + \"_\" + str(frame-phaseOffsets[phase]) + \".xyz\"\n",
    "    outputFileName = directory + out\n",
    "    outputfile = open(outputFileName,\"w+\")\n",
    "    ld.write_lammps_data(outputfile,extxyzFrame)"
   ]
  },
  {
   "cell_type": "code",
   "execution_count": null,
   "metadata": {},
   "outputs": [],
   "source": [
    "for inputfilename"
   ]
  },
  {
   "cell_type": "code",
   "execution_count": 3,
   "metadata": {},
   "outputs": [],
   "source": [
    "#First get the QE output file (in the verbose format)\n",
    "directory = os.getcwd()\n",
    "lammpsDumpFolder = \"/Si:H_LAMMPS_dumps/\""
   ]
  },
  {
   "cell_type": "code",
   "execution_count": 16,
   "metadata": {},
   "outputs": [
    {
     "name": "stdout",
     "output_type": "stream",
     "text": [
      "<_io.TextIOWrapper name='/home/davis/Dropbox/GAP aSi:H project/Si:H_LAMMPS_dumps/dump2.xyz' mode='r' encoding='UTF-8'>\n",
      "<_io.TextIOWrapper name='/home/davis/Dropbox/GAP aSi:H project/Si:H_LAMMPS_dumps/dump3.xyz' mode='r' encoding='UTF-8'>\n",
      "<_io.TextIOWrapper name='/home/davis/Dropbox/GAP aSi:H project/Si:H_LAMMPS_dumps/dump4.xyz' mode='r' encoding='UTF-8'>\n",
      "<_io.TextIOWrapper name='/home/davis/Dropbox/GAP aSi:H project/Si:H_LAMMPS_dumps/dump1.xyz' mode='r' encoding='UTF-8'>\n"
     ]
    }
   ],
   "source": [
    "for inputfilename in os.listdir(directory + lammpsDumpFolder):\n",
    "    inputfile = open(directory+lammpsDumpFolder+inputfilename)\n",
    "    print(inputfile)\n",
    "    #Read in the LAMMPS dump file\n",
    "    images = lammps.read_lammps_dump_text(inputfile, index=-1)\n",
    "    #images = list(lammps.read_lammps_dump_text(inputfile, index = slice(None)))\n",
    "    \n",
    "    #Now get the output extxyz filename\n",
    "    outputfile = directory + lammpsDumpFolder + inputfilename[:-3] + \"extxyz\"\n",
    "    \n",
    "    #Output the extxyz file\n",
    "    extxyz.write_extxyz(outputfile,images,columns=[\"symbols\",\"positions\",\"numbers\"])"
   ]
  },
  {
   "cell_type": "code",
   "execution_count": null,
   "metadata": {},
   "outputs": [],
   "source": [
    "#Move all the extxyz files to another folder\n",
    "config = \"amorph\"\n",
    "extxyzFolder = \"/Si:H_LAMMPS_extxyzs\"\n",
    "output = directory + extxyzFolder + config + \"_extxyzs.xyz\"\n",
    "for outputfile in os.listdir(directory + lammpsDumpFolder):\n",
    "    if outputfile[-6:] == \"extxyz\":\n",
    "        #add a line to the beginning of the file that says what config type it has\n",
    "        \n",
    "        #add the file contents to the total file\n",
    "        os.system('cat {0} >> {1}'.format(outputfile, output))"
   ]
  },
  {
   "cell_type": "code",
   "execution_count": null,
   "metadata": {},
   "outputs": [],
   "source": []
  },
  {
   "cell_type": "code",
   "execution_count": 19,
   "metadata": {},
   "outputs": [
    {
     "ename": "TypeError",
     "evalue": "'int' object is not iterable",
     "output_type": "error",
     "traceback": [
      "\u001b[0;31m---------------------------------------------------------------------------\u001b[0m",
      "\u001b[0;31mTypeError\u001b[0m                                 Traceback (most recent call last)",
      "\u001b[0;32m<ipython-input-19-4bf340159e27>\u001b[0m in \u001b[0;36m<module>\u001b[0;34m\u001b[0m\n\u001b[1;32m      1\u001b[0m \u001b[0mimages\u001b[0m \u001b[0;34m=\u001b[0m \u001b[0;34m[\u001b[0m\u001b[0;34m]\u001b[0m\u001b[0;34m\u001b[0m\u001b[0;34m\u001b[0m\u001b[0m\n\u001b[0;32m----> 2\u001b[0;31m \u001b[0;32mfor\u001b[0m \u001b[0mstructure\u001b[0m \u001b[0;32min\u001b[0m \u001b[0mqe_structure\u001b[0m\u001b[0;34m:\u001b[0m\u001b[0;34m\u001b[0m\u001b[0;34m\u001b[0m\u001b[0m\n\u001b[0m\u001b[1;32m      3\u001b[0m     \u001b[0mimages\u001b[0m\u001b[0;34m.\u001b[0m\u001b[0mappend\u001b[0m\u001b[0;34m(\u001b[0m\u001b[0mAtoms\u001b[0m\u001b[0;34m(\u001b[0m\u001b[0mstructure\u001b[0m\u001b[0;34m)\u001b[0m\u001b[0;34m)\u001b[0m\u001b[0;34m\u001b[0m\u001b[0;34m\u001b[0m\u001b[0m\n",
      "\u001b[0;32m~/.local/lib/python3.7/site-packages/ase/io/espresso.py\u001b[0m in \u001b[0;36mread_espresso_out\u001b[0;34m(fileobj, index, results_required)\u001b[0m\n\u001b[1;32m    167\u001b[0m     \u001b[0mpwscf_start_info\u001b[0m \u001b[0;34m=\u001b[0m \u001b[0mdict\u001b[0m\u001b[0;34m(\u001b[0m\u001b[0;34m(\u001b[0m\u001b[0midx\u001b[0m\u001b[0;34m,\u001b[0m \u001b[0;32mNone\u001b[0m\u001b[0;34m)\u001b[0m \u001b[0;32mfor\u001b[0m \u001b[0midx\u001b[0m \u001b[0;32min\u001b[0m \u001b[0mindexes\u001b[0m\u001b[0;34m[\u001b[0m\u001b[0m_PW_START\u001b[0m\u001b[0;34m]\u001b[0m\u001b[0;34m)\u001b[0m\u001b[0;34m\u001b[0m\u001b[0;34m\u001b[0m\u001b[0m\n\u001b[1;32m    168\u001b[0m \u001b[0;34m\u001b[0m\u001b[0m\n\u001b[0;32m--> 169\u001b[0;31m     \u001b[0;32mfor\u001b[0m \u001b[0mimage_index\u001b[0m \u001b[0;32min\u001b[0m \u001b[0mimage_indexes\u001b[0m\u001b[0;34m:\u001b[0m\u001b[0;34m\u001b[0m\u001b[0;34m\u001b[0m\u001b[0m\n\u001b[0m\u001b[1;32m    170\u001b[0m         \u001b[0;31m# Find the nearest calculation start to parse info. Needed in,\u001b[0m\u001b[0;34m\u001b[0m\u001b[0;34m\u001b[0m\u001b[0;34m\u001b[0m\u001b[0m\n\u001b[1;32m    171\u001b[0m         \u001b[0;31m# for example, relaxation where cell is only printed at the\u001b[0m\u001b[0;34m\u001b[0m\u001b[0;34m\u001b[0m\u001b[0;34m\u001b[0m\u001b[0m\n",
      "\u001b[0;31mTypeError\u001b[0m: 'int' object is not iterable"
     ]
    }
   ],
   "source": [
    "images = []\n",
    "for structure in qe_structure:\n",
    "    images.append(Atoms(structure))\n"
   ]
  },
  {
   "cell_type": "code",
   "execution_count": 23,
   "metadata": {},
   "outputs": [
    {
     "name": "stdout",
     "output_type": "stream",
     "text": [
      "<generator object read_espresso_out at 0x7f0850cb88d0>\n"
     ]
    }
   ],
   "source": [
    "print(qe_structure)"
   ]
  },
  {
   "cell_type": "code",
   "execution_count": 41,
   "metadata": {},
   "outputs": [
    {
     "name": "stdout",
     "output_type": "stream",
     "text": [
      "Atoms(symbols='H17Si128', pbc=True, cell=[13.85000002531519, 13.85000002531519, 13.85000002531519], calculator=SinglePointDFTCalculator(...))\n"
     ]
    }
   ],
   "source": [
    "print(images[0])"
   ]
  },
  {
   "cell_type": "code",
   "execution_count": 1,
   "metadata": {},
   "outputs": [
    {
     "name": "stdout",
     "output_type": "stream",
     "text": [
      "thefatcat\n"
     ]
    }
   ],
   "source": [
    "a = \"thefatcat.xyz\"\n",
    "b = a[:-4]\n",
    "print(b)"
   ]
  },
  {
   "cell_type": "code",
   "execution_count": null,
   "metadata": {},
   "outputs": [],
   "source": []
  }
 ],
 "metadata": {
  "kernelspec": {
   "display_name": "Python 3",
   "language": "python",
   "name": "python3"
  },
  "language_info": {
   "codemirror_mode": {
    "name": "ipython",
    "version": 3
   },
   "file_extension": ".py",
   "mimetype": "text/x-python",
   "name": "python",
   "nbconvert_exporter": "python",
   "pygments_lexer": "ipython3",
   "version": "3.7.7"
  }
 },
 "nbformat": 4,
 "nbformat_minor": 4
}
